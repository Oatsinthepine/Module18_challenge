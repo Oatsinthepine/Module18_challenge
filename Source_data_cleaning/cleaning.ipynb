{
 "cells": [
  {
   "cell_type": "code",
   "execution_count": 1,
   "metadata": {},
   "outputs": [],
   "source": [
    "import os\n",
    "import pandas as pd"
   ]
  },
  {
   "cell_type": "code",
   "execution_count": 2,
   "metadata": {},
   "outputs": [
    {
     "data": {
      "text/plain": [
       "'data/JC-202308-citibike-tripdata.csv'"
      ]
     },
     "execution_count": 2,
     "metadata": {},
     "output_type": "execute_result"
    }
   ],
   "source": [
    "f1 = os.path.join('data', 'JC-202308-citibike-tripdata.csv')\n",
    "f1"
   ]
  },
  {
   "cell_type": "code",
   "execution_count": 3,
   "metadata": {},
   "outputs": [
    {
     "data": {
      "text/html": [
       "<div>\n",
       "<style scoped>\n",
       "    .dataframe tbody tr th:only-of-type {\n",
       "        vertical-align: middle;\n",
       "    }\n",
       "\n",
       "    .dataframe tbody tr th {\n",
       "        vertical-align: top;\n",
       "    }\n",
       "\n",
       "    .dataframe thead th {\n",
       "        text-align: right;\n",
       "    }\n",
       "</style>\n",
       "<table border=\"1\" class=\"dataframe\">\n",
       "  <thead>\n",
       "    <tr style=\"text-align: right;\">\n",
       "      <th></th>\n",
       "      <th>ride_id</th>\n",
       "      <th>rideable_type</th>\n",
       "      <th>started_at</th>\n",
       "      <th>ended_at</th>\n",
       "      <th>start_station_name</th>\n",
       "      <th>start_station_id</th>\n",
       "      <th>end_station_name</th>\n",
       "      <th>end_station_id</th>\n",
       "      <th>start_lat</th>\n",
       "      <th>start_lng</th>\n",
       "      <th>end_lat</th>\n",
       "      <th>end_lng</th>\n",
       "      <th>member_casual</th>\n",
       "    </tr>\n",
       "  </thead>\n",
       "  <tbody>\n",
       "    <tr>\n",
       "      <th>0</th>\n",
       "      <td>E2E964A161F786AB</td>\n",
       "      <td>classic_bike</td>\n",
       "      <td>2023-08-07 19:37:47</td>\n",
       "      <td>2023-08-07 19:41:14</td>\n",
       "      <td>6 St &amp; Grand St</td>\n",
       "      <td>HB302</td>\n",
       "      <td>Madison St &amp; 10 St</td>\n",
       "      <td>HB503</td>\n",
       "      <td>40.744398</td>\n",
       "      <td>-74.034501</td>\n",
       "      <td>40.749943</td>\n",
       "      <td>-74.035865</td>\n",
       "      <td>member</td>\n",
       "    </tr>\n",
       "    <tr>\n",
       "      <th>1</th>\n",
       "      <td>0660F2E48E3BB87F</td>\n",
       "      <td>classic_bike</td>\n",
       "      <td>2023-08-01 13:16:22</td>\n",
       "      <td>2023-08-01 13:26:02</td>\n",
       "      <td>6 St &amp; Grand St</td>\n",
       "      <td>HB302</td>\n",
       "      <td>6 St &amp; Grand St</td>\n",
       "      <td>HB302</td>\n",
       "      <td>40.744398</td>\n",
       "      <td>-74.034501</td>\n",
       "      <td>40.744398</td>\n",
       "      <td>-74.034501</td>\n",
       "      <td>member</td>\n",
       "    </tr>\n",
       "    <tr>\n",
       "      <th>2</th>\n",
       "      <td>940FC7C675232897</td>\n",
       "      <td>classic_bike</td>\n",
       "      <td>2023-08-15 17:28:23</td>\n",
       "      <td>2023-08-15 17:50:35</td>\n",
       "      <td>Heights Elevator</td>\n",
       "      <td>JC059</td>\n",
       "      <td>Heights Elevator</td>\n",
       "      <td>JC059</td>\n",
       "      <td>40.748721</td>\n",
       "      <td>-74.040480</td>\n",
       "      <td>40.748716</td>\n",
       "      <td>-74.040443</td>\n",
       "      <td>member</td>\n",
       "    </tr>\n",
       "    <tr>\n",
       "      <th>3</th>\n",
       "      <td>E967660CC5CD585B</td>\n",
       "      <td>classic_bike</td>\n",
       "      <td>2023-08-01 12:44:24</td>\n",
       "      <td>2023-08-01 12:49:45</td>\n",
       "      <td>Hoboken Ave at Monmouth St</td>\n",
       "      <td>JC105</td>\n",
       "      <td>Hoboken Terminal - River St &amp; Hudson Pl</td>\n",
       "      <td>HB102</td>\n",
       "      <td>40.735279</td>\n",
       "      <td>-74.046830</td>\n",
       "      <td>40.736068</td>\n",
       "      <td>-74.029127</td>\n",
       "      <td>member</td>\n",
       "    </tr>\n",
       "    <tr>\n",
       "      <th>4</th>\n",
       "      <td>D997CB0B855FE2D6</td>\n",
       "      <td>classic_bike</td>\n",
       "      <td>2023-08-08 12:31:16</td>\n",
       "      <td>2023-08-08 12:40:18</td>\n",
       "      <td>Hoboken Ave at Monmouth St</td>\n",
       "      <td>JC105</td>\n",
       "      <td>Hoboken Terminal - River St &amp; Hudson Pl</td>\n",
       "      <td>HB102</td>\n",
       "      <td>40.735208</td>\n",
       "      <td>-74.046964</td>\n",
       "      <td>40.736068</td>\n",
       "      <td>-74.029127</td>\n",
       "      <td>member</td>\n",
       "    </tr>\n",
       "  </tbody>\n",
       "</table>\n",
       "</div>"
      ],
      "text/plain": [
       "            ride_id rideable_type           started_at             ended_at  \\\n",
       "0  E2E964A161F786AB  classic_bike  2023-08-07 19:37:47  2023-08-07 19:41:14   \n",
       "1  0660F2E48E3BB87F  classic_bike  2023-08-01 13:16:22  2023-08-01 13:26:02   \n",
       "2  940FC7C675232897  classic_bike  2023-08-15 17:28:23  2023-08-15 17:50:35   \n",
       "3  E967660CC5CD585B  classic_bike  2023-08-01 12:44:24  2023-08-01 12:49:45   \n",
       "4  D997CB0B855FE2D6  classic_bike  2023-08-08 12:31:16  2023-08-08 12:40:18   \n",
       "\n",
       "           start_station_name start_station_id  \\\n",
       "0             6 St & Grand St            HB302   \n",
       "1             6 St & Grand St            HB302   \n",
       "2            Heights Elevator            JC059   \n",
       "3  Hoboken Ave at Monmouth St            JC105   \n",
       "4  Hoboken Ave at Monmouth St            JC105   \n",
       "\n",
       "                          end_station_name end_station_id  start_lat  \\\n",
       "0                       Madison St & 10 St          HB503  40.744398   \n",
       "1                          6 St & Grand St          HB302  40.744398   \n",
       "2                         Heights Elevator          JC059  40.748721   \n",
       "3  Hoboken Terminal - River St & Hudson Pl          HB102  40.735279   \n",
       "4  Hoboken Terminal - River St & Hudson Pl          HB102  40.735208   \n",
       "\n",
       "   start_lng    end_lat    end_lng member_casual  \n",
       "0 -74.034501  40.749943 -74.035865        member  \n",
       "1 -74.034501  40.744398 -74.034501        member  \n",
       "2 -74.040480  40.748716 -74.040443        member  \n",
       "3 -74.046830  40.736068 -74.029127        member  \n",
       "4 -74.046964  40.736068 -74.029127        member  "
      ]
     },
     "execution_count": 3,
     "metadata": {},
     "output_type": "execute_result"
    }
   ],
   "source": [
    "df1 = pd.read_csv(f1, encoding='utf-8')\n",
    "df1.head()"
   ]
  },
  {
   "cell_type": "code",
   "execution_count": 4,
   "metadata": {},
   "outputs": [
    {
     "name": "stdout",
     "output_type": "stream",
     "text": [
      "<class 'pandas.core.frame.DataFrame'>\n",
      "RangeIndex: 112027 entries, 0 to 112026\n",
      "Data columns (total 13 columns):\n",
      " #   Column              Non-Null Count   Dtype  \n",
      "---  ------              --------------   -----  \n",
      " 0   ride_id             112027 non-null  object \n",
      " 1   rideable_type       112027 non-null  object \n",
      " 2   started_at          112027 non-null  object \n",
      " 3   ended_at            112027 non-null  object \n",
      " 4   start_station_name  112027 non-null  object \n",
      " 5   start_station_id    112027 non-null  object \n",
      " 6   end_station_name    111701 non-null  object \n",
      " 7   end_station_id      111701 non-null  object \n",
      " 8   start_lat           112027 non-null  float64\n",
      " 9   start_lng           112027 non-null  float64\n",
      " 10  end_lat             111907 non-null  float64\n",
      " 11  end_lng             111907 non-null  float64\n",
      " 12  member_casual       112027 non-null  object \n",
      "dtypes: float64(4), object(9)\n",
      "memory usage: 11.1+ MB\n"
     ]
    }
   ],
   "source": [
    "df1.info()"
   ]
  },
  {
   "cell_type": "code",
   "execution_count": 5,
   "metadata": {},
   "outputs": [
    {
     "data": {
      "text/plain": [
       "ride_id                 0\n",
       "rideable_type           0\n",
       "started_at              0\n",
       "ended_at                0\n",
       "start_station_name      0\n",
       "start_station_id        0\n",
       "end_station_name      326\n",
       "end_station_id        326\n",
       "start_lat               0\n",
       "start_lng               0\n",
       "end_lat               120\n",
       "end_lng               120\n",
       "member_casual           0\n",
       "dtype: int64"
      ]
     },
     "execution_count": 5,
     "metadata": {},
     "output_type": "execute_result"
    }
   ],
   "source": [
    "df1.isna().sum()"
   ]
  },
  {
   "cell_type": "code",
   "execution_count": 6,
   "metadata": {},
   "outputs": [],
   "source": [
    "df1 = df1.dropna()"
   ]
  },
  {
   "cell_type": "code",
   "execution_count": 7,
   "metadata": {},
   "outputs": [
    {
     "data": {
      "text/html": [
       "<div>\n",
       "<style scoped>\n",
       "    .dataframe tbody tr th:only-of-type {\n",
       "        vertical-align: middle;\n",
       "    }\n",
       "\n",
       "    .dataframe tbody tr th {\n",
       "        vertical-align: top;\n",
       "    }\n",
       "\n",
       "    .dataframe thead th {\n",
       "        text-align: right;\n",
       "    }\n",
       "</style>\n",
       "<table border=\"1\" class=\"dataframe\">\n",
       "  <thead>\n",
       "    <tr style=\"text-align: right;\">\n",
       "      <th></th>\n",
       "      <th>ride_id</th>\n",
       "      <th>rideable_type</th>\n",
       "      <th>started_at</th>\n",
       "      <th>ended_at</th>\n",
       "      <th>start_station_name</th>\n",
       "      <th>start_station_id</th>\n",
       "      <th>end_station_name</th>\n",
       "      <th>end_station_id</th>\n",
       "      <th>start_lat</th>\n",
       "      <th>start_lng</th>\n",
       "      <th>end_lat</th>\n",
       "      <th>end_lng</th>\n",
       "      <th>member_casual</th>\n",
       "    </tr>\n",
       "  </thead>\n",
       "  <tbody>\n",
       "    <tr>\n",
       "      <th>0</th>\n",
       "      <td>17AE31FCAE74D287</td>\n",
       "      <td>electric_bike</td>\n",
       "      <td>2024-08-07 13:22:55.656</td>\n",
       "      <td>2024-08-07 13:25:09.654</td>\n",
       "      <td>7 St &amp; Monroe St</td>\n",
       "      <td>HB304</td>\n",
       "      <td>4 St &amp; Grand St</td>\n",
       "      <td>HB301</td>\n",
       "      <td>40.746413</td>\n",
       "      <td>-74.037977</td>\n",
       "      <td>40.742258</td>\n",
       "      <td>-74.035111</td>\n",
       "      <td>member</td>\n",
       "    </tr>\n",
       "    <tr>\n",
       "      <th>1</th>\n",
       "      <td>FD9859BDBE0CDF70</td>\n",
       "      <td>electric_bike</td>\n",
       "      <td>2024-08-13 13:15:08.627</td>\n",
       "      <td>2024-08-13 13:17:44.971</td>\n",
       "      <td>7 St &amp; Monroe St</td>\n",
       "      <td>HB304</td>\n",
       "      <td>4 St &amp; Grand St</td>\n",
       "      <td>HB301</td>\n",
       "      <td>40.746413</td>\n",
       "      <td>-74.037977</td>\n",
       "      <td>40.742258</td>\n",
       "      <td>-74.035111</td>\n",
       "      <td>member</td>\n",
       "    </tr>\n",
       "    <tr>\n",
       "      <th>2</th>\n",
       "      <td>AAC5ECD095AE5572</td>\n",
       "      <td>electric_bike</td>\n",
       "      <td>2024-08-12 20:07:26.975</td>\n",
       "      <td>2024-08-12 20:09:38.180</td>\n",
       "      <td>7 St &amp; Monroe St</td>\n",
       "      <td>HB304</td>\n",
       "      <td>4 St &amp; Grand St</td>\n",
       "      <td>HB301</td>\n",
       "      <td>40.746413</td>\n",
       "      <td>-74.037977</td>\n",
       "      <td>40.742258</td>\n",
       "      <td>-74.035111</td>\n",
       "      <td>member</td>\n",
       "    </tr>\n",
       "    <tr>\n",
       "      <th>3</th>\n",
       "      <td>857C4DCB2F29655B</td>\n",
       "      <td>electric_bike</td>\n",
       "      <td>2024-08-09 13:43:18.882</td>\n",
       "      <td>2024-08-09 13:45:38.226</td>\n",
       "      <td>7 St &amp; Monroe St</td>\n",
       "      <td>HB304</td>\n",
       "      <td>4 St &amp; Grand St</td>\n",
       "      <td>HB301</td>\n",
       "      <td>40.746413</td>\n",
       "      <td>-74.037977</td>\n",
       "      <td>40.742258</td>\n",
       "      <td>-74.035111</td>\n",
       "      <td>member</td>\n",
       "    </tr>\n",
       "    <tr>\n",
       "      <th>4</th>\n",
       "      <td>4439657C244E7009</td>\n",
       "      <td>classic_bike</td>\n",
       "      <td>2024-08-01 10:29:40.174</td>\n",
       "      <td>2024-08-01 10:32:56.874</td>\n",
       "      <td>Clinton St &amp; Newark St</td>\n",
       "      <td>HB409</td>\n",
       "      <td>4 St &amp; Grand St</td>\n",
       "      <td>HB301</td>\n",
       "      <td>40.737430</td>\n",
       "      <td>-74.035710</td>\n",
       "      <td>40.742258</td>\n",
       "      <td>-74.035111</td>\n",
       "      <td>member</td>\n",
       "    </tr>\n",
       "  </tbody>\n",
       "</table>\n",
       "</div>"
      ],
      "text/plain": [
       "            ride_id  rideable_type               started_at  \\\n",
       "0  17AE31FCAE74D287  electric_bike  2024-08-07 13:22:55.656   \n",
       "1  FD9859BDBE0CDF70  electric_bike  2024-08-13 13:15:08.627   \n",
       "2  AAC5ECD095AE5572  electric_bike  2024-08-12 20:07:26.975   \n",
       "3  857C4DCB2F29655B  electric_bike  2024-08-09 13:43:18.882   \n",
       "4  4439657C244E7009   classic_bike  2024-08-01 10:29:40.174   \n",
       "\n",
       "                  ended_at      start_station_name start_station_id  \\\n",
       "0  2024-08-07 13:25:09.654        7 St & Monroe St            HB304   \n",
       "1  2024-08-13 13:17:44.971        7 St & Monroe St            HB304   \n",
       "2  2024-08-12 20:09:38.180        7 St & Monroe St            HB304   \n",
       "3  2024-08-09 13:45:38.226        7 St & Monroe St            HB304   \n",
       "4  2024-08-01 10:32:56.874  Clinton St & Newark St            HB409   \n",
       "\n",
       "  end_station_name end_station_id  start_lat  start_lng    end_lat    end_lng  \\\n",
       "0  4 St & Grand St          HB301  40.746413 -74.037977  40.742258 -74.035111   \n",
       "1  4 St & Grand St          HB301  40.746413 -74.037977  40.742258 -74.035111   \n",
       "2  4 St & Grand St          HB301  40.746413 -74.037977  40.742258 -74.035111   \n",
       "3  4 St & Grand St          HB301  40.746413 -74.037977  40.742258 -74.035111   \n",
       "4  4 St & Grand St          HB301  40.737430 -74.035710  40.742258 -74.035111   \n",
       "\n",
       "  member_casual  \n",
       "0        member  \n",
       "1        member  \n",
       "2        member  \n",
       "3        member  \n",
       "4        member  "
      ]
     },
     "execution_count": 7,
     "metadata": {},
     "output_type": "execute_result"
    }
   ],
   "source": [
    "f2 = os.path.join('data', 'JC-202408-citibike-tripdata.csv')\n",
    "df2 = pd.read_csv(f2, encoding='utf-8')\n",
    "df2.head()"
   ]
  },
  {
   "cell_type": "code",
   "execution_count": 8,
   "metadata": {},
   "outputs": [
    {
     "name": "stdout",
     "output_type": "stream",
     "text": [
      "<class 'pandas.core.frame.DataFrame'>\n",
      "RangeIndex: 106451 entries, 0 to 106450\n",
      "Data columns (total 13 columns):\n",
      " #   Column              Non-Null Count   Dtype  \n",
      "---  ------              --------------   -----  \n",
      " 0   ride_id             106451 non-null  object \n",
      " 1   rideable_type       106451 non-null  object \n",
      " 2   started_at          106451 non-null  object \n",
      " 3   ended_at            106451 non-null  object \n",
      " 4   start_station_name  106451 non-null  object \n",
      " 5   start_station_id    106451 non-null  object \n",
      " 6   end_station_name    106080 non-null  object \n",
      " 7   end_station_id      106062 non-null  object \n",
      " 8   start_lat           106451 non-null  float64\n",
      " 9   start_lng           106451 non-null  float64\n",
      " 10  end_lat             106414 non-null  float64\n",
      " 11  end_lng             106414 non-null  float64\n",
      " 12  member_casual       106451 non-null  object \n",
      "dtypes: float64(4), object(9)\n",
      "memory usage: 10.6+ MB\n"
     ]
    }
   ],
   "source": [
    "df2.info()\n"
   ]
  },
  {
   "cell_type": "code",
   "execution_count": 9,
   "metadata": {},
   "outputs": [
    {
     "data": {
      "text/plain": [
       "ride_id                 0\n",
       "rideable_type           0\n",
       "started_at              0\n",
       "ended_at                0\n",
       "start_station_name      0\n",
       "start_station_id        0\n",
       "end_station_name      371\n",
       "end_station_id        389\n",
       "start_lat               0\n",
       "start_lng               0\n",
       "end_lat                37\n",
       "end_lng                37\n",
       "member_casual           0\n",
       "dtype: int64"
      ]
     },
     "execution_count": 9,
     "metadata": {},
     "output_type": "execute_result"
    }
   ],
   "source": [
    "df2.isna().sum()"
   ]
  },
  {
   "cell_type": "code",
   "execution_count": 10,
   "metadata": {},
   "outputs": [],
   "source": [
    "df2 = df2.dropna()"
   ]
  },
  {
   "cell_type": "code",
   "execution_count": 11,
   "metadata": {},
   "outputs": [
    {
     "name": "stdout",
     "output_type": "stream",
     "text": [
      "Index(['ride_id', 'rideable_type', 'started_at', 'ended_at',\n",
      "       'start_station_name', 'start_station_id', 'end_station_name',\n",
      "       'end_station_id', 'start_lat', 'start_lng', 'end_lat', 'end_lng',\n",
      "       'member_casual'],\n",
      "      dtype='object')\n",
      "Index(['ride_id', 'rideable_type', 'started_at', 'ended_at',\n",
      "       'start_station_name', 'start_station_id', 'end_station_name',\n",
      "       'end_station_id', 'start_lat', 'start_lng', 'end_lat', 'end_lng',\n",
      "       'member_casual'],\n",
      "      dtype='object')\n"
     ]
    }
   ],
   "source": [
    "print(df1.columns)\n",
    "print(df2.columns)"
   ]
  },
  {
   "cell_type": "code",
   "execution_count": 12,
   "metadata": {},
   "outputs": [
    {
     "data": {
      "text/html": [
       "<div>\n",
       "<style scoped>\n",
       "    .dataframe tbody tr th:only-of-type {\n",
       "        vertical-align: middle;\n",
       "    }\n",
       "\n",
       "    .dataframe tbody tr th {\n",
       "        vertical-align: top;\n",
       "    }\n",
       "\n",
       "    .dataframe thead th {\n",
       "        text-align: right;\n",
       "    }\n",
       "</style>\n",
       "<table border=\"1\" class=\"dataframe\">\n",
       "  <thead>\n",
       "    <tr style=\"text-align: right;\">\n",
       "      <th></th>\n",
       "      <th>ride_id</th>\n",
       "      <th>rideable_type</th>\n",
       "      <th>started_at</th>\n",
       "      <th>ended_at</th>\n",
       "      <th>start_station_name</th>\n",
       "      <th>start_station_id</th>\n",
       "      <th>end_station_name</th>\n",
       "      <th>end_station_id</th>\n",
       "      <th>start_lat</th>\n",
       "      <th>start_lng</th>\n",
       "      <th>end_lat</th>\n",
       "      <th>end_lng</th>\n",
       "      <th>member_casual</th>\n",
       "      <th>Year</th>\n",
       "    </tr>\n",
       "  </thead>\n",
       "  <tbody>\n",
       "    <tr>\n",
       "      <th>0</th>\n",
       "      <td>E2E964A161F786AB</td>\n",
       "      <td>classic_bike</td>\n",
       "      <td>2023-08-07 19:37:47</td>\n",
       "      <td>2023-08-07 19:41:14</td>\n",
       "      <td>6 St &amp; Grand St</td>\n",
       "      <td>HB302</td>\n",
       "      <td>Madison St &amp; 10 St</td>\n",
       "      <td>HB503</td>\n",
       "      <td>40.744398</td>\n",
       "      <td>-74.034501</td>\n",
       "      <td>40.749943</td>\n",
       "      <td>-74.035865</td>\n",
       "      <td>member</td>\n",
       "      <td>2023</td>\n",
       "    </tr>\n",
       "    <tr>\n",
       "      <th>1</th>\n",
       "      <td>0660F2E48E3BB87F</td>\n",
       "      <td>classic_bike</td>\n",
       "      <td>2023-08-01 13:16:22</td>\n",
       "      <td>2023-08-01 13:26:02</td>\n",
       "      <td>6 St &amp; Grand St</td>\n",
       "      <td>HB302</td>\n",
       "      <td>6 St &amp; Grand St</td>\n",
       "      <td>HB302</td>\n",
       "      <td>40.744398</td>\n",
       "      <td>-74.034501</td>\n",
       "      <td>40.744398</td>\n",
       "      <td>-74.034501</td>\n",
       "      <td>member</td>\n",
       "      <td>2023</td>\n",
       "    </tr>\n",
       "    <tr>\n",
       "      <th>2</th>\n",
       "      <td>940FC7C675232897</td>\n",
       "      <td>classic_bike</td>\n",
       "      <td>2023-08-15 17:28:23</td>\n",
       "      <td>2023-08-15 17:50:35</td>\n",
       "      <td>Heights Elevator</td>\n",
       "      <td>JC059</td>\n",
       "      <td>Heights Elevator</td>\n",
       "      <td>JC059</td>\n",
       "      <td>40.748721</td>\n",
       "      <td>-74.040480</td>\n",
       "      <td>40.748716</td>\n",
       "      <td>-74.040443</td>\n",
       "      <td>member</td>\n",
       "      <td>2023</td>\n",
       "    </tr>\n",
       "    <tr>\n",
       "      <th>3</th>\n",
       "      <td>E967660CC5CD585B</td>\n",
       "      <td>classic_bike</td>\n",
       "      <td>2023-08-01 12:44:24</td>\n",
       "      <td>2023-08-01 12:49:45</td>\n",
       "      <td>Hoboken Ave at Monmouth St</td>\n",
       "      <td>JC105</td>\n",
       "      <td>Hoboken Terminal - River St &amp; Hudson Pl</td>\n",
       "      <td>HB102</td>\n",
       "      <td>40.735279</td>\n",
       "      <td>-74.046830</td>\n",
       "      <td>40.736068</td>\n",
       "      <td>-74.029127</td>\n",
       "      <td>member</td>\n",
       "      <td>2023</td>\n",
       "    </tr>\n",
       "    <tr>\n",
       "      <th>4</th>\n",
       "      <td>D997CB0B855FE2D6</td>\n",
       "      <td>classic_bike</td>\n",
       "      <td>2023-08-08 12:31:16</td>\n",
       "      <td>2023-08-08 12:40:18</td>\n",
       "      <td>Hoboken Ave at Monmouth St</td>\n",
       "      <td>JC105</td>\n",
       "      <td>Hoboken Terminal - River St &amp; Hudson Pl</td>\n",
       "      <td>HB102</td>\n",
       "      <td>40.735208</td>\n",
       "      <td>-74.046964</td>\n",
       "      <td>40.736068</td>\n",
       "      <td>-74.029127</td>\n",
       "      <td>member</td>\n",
       "      <td>2023</td>\n",
       "    </tr>\n",
       "  </tbody>\n",
       "</table>\n",
       "</div>"
      ],
      "text/plain": [
       "            ride_id rideable_type           started_at             ended_at  \\\n",
       "0  E2E964A161F786AB  classic_bike  2023-08-07 19:37:47  2023-08-07 19:41:14   \n",
       "1  0660F2E48E3BB87F  classic_bike  2023-08-01 13:16:22  2023-08-01 13:26:02   \n",
       "2  940FC7C675232897  classic_bike  2023-08-15 17:28:23  2023-08-15 17:50:35   \n",
       "3  E967660CC5CD585B  classic_bike  2023-08-01 12:44:24  2023-08-01 12:49:45   \n",
       "4  D997CB0B855FE2D6  classic_bike  2023-08-08 12:31:16  2023-08-08 12:40:18   \n",
       "\n",
       "           start_station_name start_station_id  \\\n",
       "0             6 St & Grand St            HB302   \n",
       "1             6 St & Grand St            HB302   \n",
       "2            Heights Elevator            JC059   \n",
       "3  Hoboken Ave at Monmouth St            JC105   \n",
       "4  Hoboken Ave at Monmouth St            JC105   \n",
       "\n",
       "                          end_station_name end_station_id  start_lat  \\\n",
       "0                       Madison St & 10 St          HB503  40.744398   \n",
       "1                          6 St & Grand St          HB302  40.744398   \n",
       "2                         Heights Elevator          JC059  40.748721   \n",
       "3  Hoboken Terminal - River St & Hudson Pl          HB102  40.735279   \n",
       "4  Hoboken Terminal - River St & Hudson Pl          HB102  40.735208   \n",
       "\n",
       "   start_lng    end_lat    end_lng member_casual  Year  \n",
       "0 -74.034501  40.749943 -74.035865        member  2023  \n",
       "1 -74.034501  40.744398 -74.034501        member  2023  \n",
       "2 -74.040480  40.748716 -74.040443        member  2023  \n",
       "3 -74.046830  40.736068 -74.029127        member  2023  \n",
       "4 -74.046964  40.736068 -74.029127        member  2023  "
      ]
     },
     "execution_count": 12,
     "metadata": {},
     "output_type": "execute_result"
    }
   ],
   "source": [
    "df1['Year'] = 2023\n",
    "df2['Year'] = 2024\n",
    "# Concatenate the two datasets row-wise\n",
    "merged_data = pd.concat([df1, df2])\n",
    "\n",
    "# Optionally reset index if needed\n",
    "merged_data.reset_index(drop=True, inplace=True)\n",
    "\n",
    "merged_data.head()"
   ]
  },
  {
   "cell_type": "code",
   "execution_count": 15,
   "metadata": {},
   "outputs": [
    {
     "data": {
      "text/plain": [
       "217763"
      ]
     },
     "execution_count": 15,
     "metadata": {},
     "output_type": "execute_result"
    }
   ],
   "source": [
    "len(merged_data)"
   ]
  },
  {
   "cell_type": "code",
   "execution_count": 17,
   "metadata": {},
   "outputs": [],
   "source": [
    "from datetime import datetime\n",
    "# function to convert datetime into unified format.\n",
    "def parse_datetime(date_str):\n",
    "    try:\n",
    "        return datetime.strptime(date_str, \"%Y-%m-%d %H:%M:%S.%f\")\n",
    "    except:\n",
    "        return datetime.strptime(date_str, \"%Y-%m-%d %H:%M:%S\")\n",
    "merged_data['started_at'] = merged_data['started_at'].apply(parse_datetime)\n",
    "merged_data['ended_at'] = merged_data['ended_at'].apply(parse_datetime)"
   ]
  },
  {
   "cell_type": "code",
   "execution_count": 22,
   "metadata": {},
   "outputs": [
    {
     "data": {
      "text/plain": [
       "ride_id               217763\n",
       "rideable_type              2\n",
       "started_at            213966\n",
       "ended_at              214269\n",
       "start_station_name       114\n",
       "start_station_id         114\n",
       "end_station_name         278\n",
       "end_station_id           277\n",
       "start_lat              36573\n",
       "start_lng              37186\n",
       "end_lat                  276\n",
       "end_lng                  277\n",
       "member_casual              2\n",
       "Year                       2\n",
       "dtype: int64"
      ]
     },
     "execution_count": 22,
     "metadata": {},
     "output_type": "execute_result"
    }
   ],
   "source": [
    "merged_data.nunique()"
   ]
  },
  {
   "cell_type": "code",
   "execution_count": 23,
   "metadata": {},
   "outputs": [],
   "source": [
    "# Ensure latitude and longitude are floats\n",
    "merged_data['start_lat'] = merged_data['start_lat'].astype(float)\n",
    "merged_data['start_lng'] = merged_data['start_lng'].astype(float)\n",
    "merged_data['end_lat'] = merged_data['end_lat'].astype(float)\n",
    "merged_data['end_lng'] = merged_data['end_lng'].astype(float)"
   ]
  },
  {
   "cell_type": "code",
   "execution_count": 26,
   "metadata": {},
   "outputs": [],
   "source": [
    "# Ensure categorical fields are strings\n",
    "merged_data['rideable_type'] = merged_data['rideable_type'].astype(str)\n",
    "merged_data['member_casual'] = merged_data['member_casual'].astype(str)\n",
    "merged_data['start_station_name'] = merged_data['start_station_name'].astype(str)\n",
    "merged_data['end_station_name'] = merged_data['end_station_name'].astype(str)\n",
    "# Ensure ride_id is a string\n",
    "merged_data['ride_id'] = merged_data['ride_id'].astype(str)\n",
    "# Ensure 'year' column is integer\n",
    "merged_data['Year'] = merged_data['Year'].astype(str)"
   ]
  },
  {
   "cell_type": "code",
   "execution_count": 27,
   "metadata": {},
   "outputs": [
    {
     "name": "stdout",
     "output_type": "stream",
     "text": [
      "Empty DataFrame\n",
      "Columns: [ride_id, rideable_type, started_at, ended_at, start_station_name, start_station_id, end_station_name, end_station_id, start_lat, start_lng, end_lat, end_lng, member_casual, Year]\n",
      "Index: []\n"
     ]
    }
   ],
   "source": [
    "duplicates = merged_data[merged_data.duplicated()]\n",
    "print(duplicates)"
   ]
  },
  {
   "cell_type": "code",
   "execution_count": 31,
   "metadata": {},
   "outputs": [
    {
     "name": "stdout",
     "output_type": "stream",
     "text": [
      "111701\n"
     ]
    }
   ],
   "source": [
    "# How many trips have been recorded in total during the chosen period?\n",
    "trip_2023 = merged_data.loc[merged_data['Year']=='2023']\n",
    "print(len(trip_2023))\n"
   ]
  },
  {
   "cell_type": "code",
   "execution_count": 33,
   "metadata": {},
   "outputs": [],
   "source": [
    "merged_data.reset_index(drop=True, inplace=True)"
   ]
  },
  {
   "cell_type": "code",
   "execution_count": 35,
   "metadata": {},
   "outputs": [],
   "source": [
    "# Export the merged file to csv for loading in Tableau\n",
    "merged_data.to_csv('merged_cityBike_data_2023_and_2024_Aug.csv', index=False, header=True)"
   ]
  }
 ],
 "metadata": {
  "kernelspec": {
   "display_name": "dev2",
   "language": "python",
   "name": "python3"
  },
  "language_info": {
   "codemirror_mode": {
    "name": "ipython",
    "version": 3
   },
   "file_extension": ".py",
   "mimetype": "text/x-python",
   "name": "python",
   "nbconvert_exporter": "python",
   "pygments_lexer": "ipython3",
   "version": "3.10.14"
  }
 },
 "nbformat": 4,
 "nbformat_minor": 2
}
